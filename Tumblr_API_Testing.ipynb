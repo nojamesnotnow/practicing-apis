{
 "cells": [
  {
   "cell_type": "markdown",
   "metadata": {
    "id": "uNlCN6sIlV9B"
   },
   "source": [
    "# Tumblr API Testing"
   ]
  },
  {
   "cell_type": "markdown",
   "metadata": {
    "id": "dRdfK3h9lYOp"
   },
   "source": [
    "- 11/24/21\n",
    "\n",
    "- Resources:\n",
    "  - Python Package: `pytumblr` \n",
    "    - [Repo/Docs](https://github.com/tumblr/pytumblr#pytumblr)\n",
    "\n",
    "  - Tumblr Api:\n",
    "    - Register New Application: \n",
    "      - https://www.tumblr.com/oauth/register\n",
    "\n",
    "    - [ ] 🎗 **BOOKMARK WHAT IS THE CALLBACK URL??**\n",
    "      - https://docs.wpwebelite.com/social-network-integration/tumblr/\n",
    "      "
   ]
  },
  {
   "cell_type": "markdown",
   "metadata": {
    "id": "McemlsVLBn-O"
   },
   "source": [
    "- Request-token URL:\n",
    "POST https://www.tumblr.com/oauth/request_token\n",
    "- Authorize URL:\n",
    "https://www.tumblr.com/oauth/authorize\n",
    "- Access-token URL:\n",
    "POST https://www.tumblr.com/oauth/access_token"
   ]
  },
  {
   "cell_type": "code",
   "execution_count": null,
   "metadata": {
    "id": "-_MfJjflBtvw"
   },
   "outputs": [],
   "source": [
    "# urls = {'request-token':\"https://www.tumblr.com/oauth/request_token\",\n",
    "#         \"authorize\":\"https://www.tumblr.com/oauth/authorize\",\n",
    "#         \"access-token\": \"https://www.tumblr.com/oauth/access_token\"}"
   ]
  },
  {
   "cell_type": "code",
   "execution_count": null,
   "metadata": {
    "id": "E0A-J9KhlS0t"
   },
   "outputs": [],
   "source": [
    "# login = {\"consumer key\":\"foA6r7GbhUj4nGmAjQxwwC8vmfY9psb2EWF8BYkJXyggjFoBu0\",\n",
    "#          \"secret key\":\"P1lIghU0hmyVVdzQflaC8XFWe5aBksg2xhc3ITMYwrHpKN5vKT\"}"
   ]
  },
  {
   "cell_type": "markdown",
   "metadata": {
    "id": "rj3Nh8SOCZHg"
   },
   "source": [
    "https://www.tumblr.com/docs/en/api/v2#oauth1-authorization"
   ]
  },
  {
   "cell_type": "code",
   "execution_count": null,
   "metadata": {
    "colab": {
     "base_uri": "https://localhost:8080/"
    },
    "id": "1veSE8RoAODt",
    "outputId": "d5d3106f-1aa8-4790-889b-c7c959700310"
   },
   "outputs": [
    {
     "data": {
      "text/plain": [
       "<Response [401]>"
      ]
     },
     "execution_count": 27,
     "metadata": {},
     "output_type": "execute_result"
    }
   ],
   "source": [
    "# import requests\n",
    "# headers = {f\"Authorization\": f\"Bearer {login['consumer key']}\"}\n",
    "# resp = requests.get(urls['request-token'],headers=headers)\n",
    "# resp"
   ]
  },
  {
   "cell_type": "code",
   "execution_count": null,
   "metadata": {
    "colab": {
     "base_uri": "https://localhost:8080/",
     "height": 35
    },
    "id": "gsItspOIAPPJ",
    "outputId": "0f7613bb-6b87-4b06-cdc5-a4a9d90a4c41"
   },
   "outputs": [
    {
     "data": {
      "application/vnd.google.colaboratory.intrinsic+json": {
       "type": "string"
      },
      "text/plain": [
       "'oauth_consumer_key required'"
      ]
     },
     "execution_count": 28,
     "metadata": {},
     "output_type": "execute_result"
    }
   ],
   "source": [
    "# resp.text"
   ]
  },
  {
   "cell_type": "code",
   "execution_count": null,
   "metadata": {
    "id": "srhV2BO6D6sC"
   },
   "outputs": [],
   "source": []
  },
  {
   "cell_type": "markdown",
   "metadata": {
    "id": "ATrAVcJAupov"
   },
   "source": [
    "# 05/10/11 New Option: `python-tumbly`\n",
    "https://github.com/michaelhelmick/python-tumblpy"
   ]
  },
  {
   "cell_type": "code",
   "execution_count": 1,
   "metadata": {
    "id": "CTZvcKPzB9Wf"
   },
   "outputs": [],
   "source": [
    "import pandas as pd\n",
    "import json, requests"
   ]
  },
  {
   "cell_type": "code",
   "execution_count": 2,
   "metadata": {
    "colab": {
     "base_uri": "https://localhost:8080/"
    },
    "id": "lAN-YfCCuzwe",
    "outputId": "81058ff7-f43d-4018-a46c-a3675a95df32"
   },
   "outputs": [
    {
     "name": "stdout",
     "output_type": "stream",
     "text": [
      "Collecting python-tumblpy\n",
      "  Downloading python-tumblpy-1.1.4.tar.gz (8.6 kB)\n",
      "  Preparing metadata (setup.py) ... \u001b[?25ldone\n",
      "\u001b[?25hRequirement already satisfied: requests>=1.2.2 in /opt/homebrew/Caskroom/miniforge/base/envs/dojo-env-m1/lib/python3.8/site-packages (from python-tumblpy) (2.27.1)\n",
      "Requirement already satisfied: requests_oauthlib>=0.3.2 in /opt/homebrew/Caskroom/miniforge/base/envs/dojo-env-m1/lib/python3.8/site-packages (from python-tumblpy) (1.3.1)\n",
      "Requirement already satisfied: certifi>=2017.4.17 in /opt/homebrew/Caskroom/miniforge/base/envs/dojo-env-m1/lib/python3.8/site-packages (from requests>=1.2.2->python-tumblpy) (2022.5.18.1)\n",
      "Requirement already satisfied: charset-normalizer~=2.0.0 in /opt/homebrew/Caskroom/miniforge/base/envs/dojo-env-m1/lib/python3.8/site-packages (from requests>=1.2.2->python-tumblpy) (2.0.12)\n",
      "Requirement already satisfied: urllib3<1.27,>=1.21.1 in /opt/homebrew/Caskroom/miniforge/base/envs/dojo-env-m1/lib/python3.8/site-packages (from requests>=1.2.2->python-tumblpy) (1.26.8)\n",
      "Requirement already satisfied: idna<4,>=2.5 in /opt/homebrew/Caskroom/miniforge/base/envs/dojo-env-m1/lib/python3.8/site-packages (from requests>=1.2.2->python-tumblpy) (3.3)\n",
      "Requirement already satisfied: oauthlib>=3.0.0 in /opt/homebrew/Caskroom/miniforge/base/envs/dojo-env-m1/lib/python3.8/site-packages (from requests_oauthlib>=0.3.2->python-tumblpy) (3.2.0)\n",
      "Building wheels for collected packages: python-tumblpy\n",
      "  Building wheel for python-tumblpy (setup.py) ... \u001b[?25ldone\n",
      "\u001b[?25h  Created wheel for python-tumblpy: filename=python_tumblpy-1.1.4-py3-none-any.whl size=9685 sha256=ac18363adfd983435696adfdc79e22de9ac01be433407f238bd799da36200418\n",
      "  Stored in directory: /Users/jamesirving/Library/Caches/pip/wheels/02/6c/68/f08abb0657cb26323bd425772d4904713f5bd4cadd79e5c344\n",
      "Successfully built python-tumblpy\n",
      "Installing collected packages: python-tumblpy\n",
      "Successfully installed python-tumblpy-1.1.4\n"
     ]
    }
   ],
   "source": [
    "!pip install python-tumblpy"
   ]
  },
  {
   "cell_type": "code",
   "execution_count": 5,
   "metadata": {
    "id": "1gJTY_Zsu1QZ"
   },
   "outputs": [],
   "source": [
    "from tumblpy import Tumblpy"
   ]
  },
  {
   "cell_type": "code",
   "execution_count": 6,
   "metadata": {},
   "outputs": [
    {
     "data": {
      "text/plain": [
       "dict_keys(['consumer key', 'secret key'])"
      ]
     },
     "execution_count": 6,
     "metadata": {},
     "output_type": "execute_result"
    }
   ],
   "source": [
    "with open(\"/Users/jamesirving/.secret/tumblr-api.json\") as f:\n",
    "    creds = json.load(f)\n",
    "creds.keys()"
   ]
  },
  {
   "cell_type": "code",
   "execution_count": 7,
   "metadata": {
    "id": "f78gD1jeu36r"
   },
   "outputs": [
    {
     "name": "stdout",
     "output_type": "stream",
     "text": [
      "Connect with Tumblr via: https://www.tumblr.com/oauth/authorize?oauth_token=P8WuG0Iqu1KYloEFrWiNHyBugc1TbWHATQJVW8WQlMXiuvyUyH&oauth_callback=https%3A%2F%2Fgithub.com%2Fnojamesnotnow%2Fpracticing-apis\n"
     ]
    }
   ],
   "source": [
    "\n",
    "t = Tumblpy(creds['consumer key'], creds['secret key'])\n",
    "\n",
    "auth_props = t.get_authentication_tokens(callback_url='https://github.com/nojamesnotnow/practicing-apis')\n",
    "auth_url = auth_props['auth_url']\n",
    "\n",
    "OAUTH_TOKEN_SECRET = auth_props['oauth_token_secret']\n",
    "\n",
    "print(f'Connect with Tumblr via: {auth_url}')"
   ]
  },
  {
   "cell_type": "markdown",
   "metadata": {},
   "source": [
    "## Bookmark: need to learn more about how to handle redirects for oath \n",
    "- https://github.com/michaelhelmick/python-tumblpy#handling-the-callback"
   ]
  },
  {
   "cell_type": "code",
   "execution_count": null,
   "metadata": {},
   "outputs": [],
   "source": []
  }
 ],
 "metadata": {
  "colab": {
   "collapsed_sections": [],
   "name": "Tumblr API Testing.ipynb",
   "provenance": []
  },
  "kernelspec": {
   "display_name": "Python (dojo-env-m1)",
   "language": "python",
   "name": "dojo-env-m1"
  },
  "language_info": {
   "codemirror_mode": {
    "name": "ipython",
    "version": 3
   },
   "file_extension": ".py",
   "mimetype": "text/x-python",
   "name": "python",
   "nbconvert_exporter": "python",
   "pygments_lexer": "ipython3",
   "version": "3.8.13"
  },
  "toc": {
   "base_numbering": 1,
   "nav_menu": {},
   "number_sections": true,
   "sideBar": true,
   "skip_h1_title": false,
   "title_cell": "Table of Contents",
   "title_sidebar": "Contents",
   "toc_cell": false,
   "toc_position": {},
   "toc_section_display": true,
   "toc_window_display": false
  }
 },
 "nbformat": 4,
 "nbformat_minor": 1
}
